{
 "cells": [
  {
   "cell_type": "code",
   "execution_count": null,
   "id": "b4388d01",
   "metadata": {},
   "outputs": [],
   "source": [
    "# Jupyter notebook related\n",
    "%reload_ext autoreload\n",
    "%autoreload 2\n",
    "%matplotlib inline\n",
    "\n",
    "# Built-in modules\n",
    "import os\n",
    "\n",
    "# Basics of Python data handling and visualization\n",
    "import numpy as np\n",
    "import imageio\n",
    "\n",
    "# Imports from eo-learn and sentinelhub-py\n",
    "from eolearn.core import (\n",
    "    EOExecutor,\n",
    "    EOTask,\n",
    "    FeatureType,\n",
    "    LinearWorkflow,\n",
    "    LoadTask,\n",
    ")\n",
    "from eolearn.coregistration import (\n",
    "    ECCRegistrationTask,\n",
    ")\n",
    "from eolearn.features import (\n",
    "    SimpleFilterTask\n",
    ")"
   ]
  },
  {
   "cell_type": "markdown",
   "id": "4c9953e9",
   "metadata": {},
   "source": [
    "## Create Timelapse and Coregistered Timelapse"
   ]
  },
  {
   "cell_type": "code",
   "execution_count": null,
   "id": "9cdde4dc",
   "metadata": {},
   "outputs": [],
   "source": [
    "location = 'gillam_mb_canada'\n",
    "\n",
    "home_dir = os.environ['HOME']\n",
    "data_dir = f'{home_dir}/data/northern-cities'"
   ]
  },
  {
   "cell_type": "markdown",
   "id": "af40ee00",
   "metadata": {},
   "source": [
    "### Declare predicates"
   ]
  },
  {
   "cell_type": "code",
   "execution_count": null,
   "id": "91d1081e",
   "metadata": {},
   "outputs": [],
   "source": [
    "class MaxCCPredicate:\n",
    "    \"\"\"\n",
    "    Predicate for filtering frames based on cloud coverage.\n",
    "    \"\"\"\n",
    "    def __init__(self, maxcc):\n",
    "        self.maxcc = maxcc\n",
    "\n",
    "    def __call__(self, mask):\n",
    "        height, width, depth = mask.shape\n",
    "        cc = np.sum(mask) / (height * width)\n",
    "        return cc <= self.maxcc"
   ]
  },
  {
   "cell_type": "markdown",
   "id": "d8da8a83",
   "metadata": {},
   "source": [
    "### Declare tasks"
   ]
  },
  {
   "cell_type": "code",
   "execution_count": null,
   "id": "967302a5",
   "metadata": {},
   "outputs": [],
   "source": [
    "class MakeGIFTask(EOTask):\n",
    "    \"\"\"\n",
    "    Custom task to create a GIF from an EOPatch.\n",
    "    \"\"\"\n",
    "    def __init__(self, feature, project_dir, frames_per_sec=5):\n",
    "        self.feature = next(self._parse_features(feature)())\n",
    "        self.project_dir = project_dir\n",
    "        self.frames_per_sec = frames_per_sec\n",
    "\n",
    "    def execute(self, eopatch, *, filename):\n",
    "        \"\"\"\n",
    "        Generates a GIF animation from an EOPatch.\n",
    "        \"\"\"\n",
    "        a = 0.0\n",
    "        b = 1.0\n",
    "        with imageio.get_writer(os.path.join(self.project_dir, filename), mode='I', fps=self.frames_per_sec) as writer:\n",
    "            for image in eopatch[self.feature]:\n",
    "                bands = image[..., [2, 1, 0]]\n",
    "                out = np.zeros_like(bands)\n",
    "                num_bands = bands.shape[2]\n",
    "                for i in range(num_bands):\n",
    "                    band = bands[:, :, i]\n",
    "                    c = np.percentile(bands[:, :, i], 1)\n",
    "                    d = np.percentile(bands[:, :, i], 99)\n",
    "                    band = a + (band - c) * (b - a) / (d - c)\n",
    "                    band[band < a] = a\n",
    "                    band[band > b] = b\n",
    "                    out[:, :, i] = band\n",
    "                out = out * 255\n",
    "                writer.append_data(out.astype(np.uint8))\n",
    "        return eopatch"
   ]
  },
  {
   "cell_type": "markdown",
   "id": "541020ed",
   "metadata": {},
   "source": [
    "### Define tasks"
   ]
  },
  {
   "cell_type": "code",
   "execution_count": null,
   "id": "d2035425",
   "metadata": {},
   "outputs": [],
   "source": [
    "# LOAD CLEAN EOPATCHES\n",
    "load_clean_scenes = LoadTask(f'{data_dir}/{location}/eopatches_clean/')\n",
    "\n",
    "# FILTER OUT CLOUDY SCENES\n",
    "filter_cloudy_scenes = SimpleFilterTask((FeatureType.MASK, 'CLM'),\n",
    "                                        MaxCCPredicate(maxcc=0.01))\n",
    "\n",
    "# MAKE GIF OF CLEAN SCENES\n",
    "make_gif_timelapse = MakeGIFTask((FeatureType.DATA, 'FEATURES'),\n",
    "                                 './')\n",
    "\n",
    "# COREGISTER CLEAN SCENES\n",
    "coregister_scenes = ECCRegistrationTask((FeatureType.DATA, 'FEATURES'),\n",
    "                                        channel=3)\n",
    "\n",
    "# MAKE GIF OF COREGISTERED SCENES\n",
    "make_gif_coregistered = MakeGIFTask((FeatureType.DATA, 'FEATURES'),\n",
    "                                    './')"
   ]
  },
  {
   "cell_type": "markdown",
   "id": "ff38dc6f",
   "metadata": {},
   "source": [
    "### Define workflow"
   ]
  },
  {
   "cell_type": "code",
   "execution_count": null,
   "id": "45cb32f8",
   "metadata": {},
   "outputs": [],
   "source": [
    "workflow = LinearWorkflow(load_clean_scenes,\n",
    "                          filter_cloudy_scenes,\n",
    "                          make_gif_timelapse,\n",
    "                          coregister_scenes,\n",
    "                          make_gif_coregistered)"
   ]
  },
  {
   "cell_type": "markdown",
   "id": "99f34099",
   "metadata": {},
   "source": [
    "### Visualize workflow"
   ]
  },
  {
   "cell_type": "code",
   "execution_count": null,
   "id": "a9883710",
   "metadata": {},
   "outputs": [],
   "source": [
    "workflow.dependency_graph()"
   ]
  },
  {
   "cell_type": "markdown",
   "id": "370f9b6f",
   "metadata": {},
   "source": [
    "### Prepare execution arguments"
   ]
  },
  {
   "cell_type": "code",
   "execution_count": null,
   "id": "20dacc3d",
   "metadata": {},
   "outputs": [],
   "source": [
    "execution_args = []\n",
    "\n",
    "for idx in range(15, 35):\n",
    "    execution_args.append({\n",
    "        load_clean_scenes: {'eopatch_folder': f'eopatch-{idx:04d}'},\n",
    "        make_gif_timelapse: {'filename': f'eopatch-{idx:04d}-timelapse.gif'},\n",
    "        make_gif_coregistered: {'filename': f'eopatch-{idx:04d}-coregistered.gif'},\n",
    "    })\n",
    "\n",
    "len(execution_args)"
   ]
  },
  {
   "cell_type": "markdown",
   "id": "03a64a2d",
   "metadata": {},
   "source": [
    "### Execute workflow"
   ]
  },
  {
   "cell_type": "code",
   "execution_count": null,
   "id": "09d78cd4",
   "metadata": {},
   "outputs": [],
   "source": [
    "executor = EOExecutor(workflow, execution_args, save_logs=True)\n",
    "executor.run(workers=1, multiprocess=True)\n",
    "\n",
    "executor.make_report()\n",
    "\n",
    "failed_ids = executor.get_failed_executions()\n",
    "if failed_ids:\n",
    "    raise RuntimeError(f'Execution failed EOPatches with IDs:\\n{failed_ids}\\n'\n",
    "                       f'For more info check report at {executor.get_report_filename()}')"
   ]
  }
 ],
 "metadata": {
  "kernelspec": {
   "display_name": "eo-venv",
   "language": "python",
   "name": "eo-venv"
  },
  "language_info": {
   "codemirror_mode": {
    "name": "ipython",
    "version": 3
   },
   "file_extension": ".py",
   "mimetype": "text/x-python",
   "name": "python",
   "nbconvert_exporter": "python",
   "pygments_lexer": "ipython3",
   "version": "3.8.0"
  }
 },
 "nbformat": 4,
 "nbformat_minor": 5
}
